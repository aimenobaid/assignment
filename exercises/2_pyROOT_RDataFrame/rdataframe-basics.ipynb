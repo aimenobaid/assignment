{
 "cells": [
  {
   "cell_type": "markdown",
   "metadata": {},
   "source": [
    "# Exercise: RDataFrame basics"
   ]
  },
  {
   "cell_type": "markdown",
   "metadata": {},
   "source": [
    "The file `../data/example_file.root` contains a `TTree` dataset (called `\"dataset\"`) with two scalar columns `a` and `b`.<br>\n",
    "There is a normal distribution hidden in there, but to display it you have to plot the natural logarithm of `a` only for entries in which `b <= 0.5`.\n",
    "\n",
    "### Useful links\n",
    "\n",
    "- [RDataFrame class reference](https://root.cern/doc/master/classROOT_1_1RDataFrame.html)\n",
    "- [RDataFrame tutorials](https://root.cern.ch/doc/master/group__tutorial__dataframe.html)"
   ]
  },
  {
   "cell_type": "code",
   "execution_count": 2,
   "metadata": {},
   "outputs": [
    {
     "name": "stdout",
     "output_type": "stream",
     "text": [
      "Welcome to JupyROOT 6.30/07\n"
     ]
    }
   ],
   "source": [
    "import ROOT"
   ]
  },
  {
   "cell_type": "code",
   "execution_count": 3,
   "metadata": {},
   "outputs": [
    {
     "data": {
      "image/png": "[encoded data removed]",
      "text/plain": [
       "<IPython.core.display.Image object>"
      ]
     },
     "metadata": {},
     "output_type": "display_data"
    }
   ],
   "source": [
    "# load the ROOT file and dataset (did wget from softwarecarpentry git repo)\n",
    "df = ROOT.RDataFrame(\"dataset\", \"../../data/example_file.root\")\n",
    "\n",
    "# filter rows where b <= 0.5\n",
    "df_filtered = df.Filter(\"b <= 0.5\")\n",
    "\n",
    "# define column with the natural log of a\n",
    "df_logged = df_filtered.Define(\"log_a\", \"log(a)\")\n",
    "\n",
    "# create a histogram of log(a)\n",
    "hist = df_logged.Histo1D((\"log_a_hist\", \"log(a) for b <= 0.5\", 50, -2, 2), \"log_a\")\n",
    "\n",
    "canvas = ROOT.TCanvas()\n",
    "hist.Draw()\n",
    "canvas.Draw()"
   ]
  }
 ],
 "metadata": {
  "kernelspec": {
   "display_name": "Python 3 (ipykernel)",
   "language": "python",
   "name": "python3"
  },
  "language_info": {
   "codemirror_mode": {
    "name": "ipython",
    "version": 3
   },
   "file_extension": ".py",
   "mimetype": "text/x-python",
   "name": "python",
   "nbconvert_exporter": "python",
   "pygments_lexer": "ipython3",
   "version": "3.9.14"
  }
 },
 "nbformat": 4,
 "nbformat_minor": 4
}
